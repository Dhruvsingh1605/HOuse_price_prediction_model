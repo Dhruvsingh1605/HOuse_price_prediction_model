{
 "cells": [
  {
   "cell_type": "code",
   "execution_count": 1,
   "id": "4206b8f3-2565-4bc0-b938-5d67f36839d6",
   "metadata": {},
   "outputs": [],
   "source": [
    "import numpy as np\n",
    "from joblib import dump, load\n",
    "model = load('House_pridiction.joblib')"
   ]
  },
  {
   "cell_type": "code",
   "execution_count": 7,
   "id": "802a4338-1261-462e-b77c-287480d25561",
   "metadata": {},
   "outputs": [],
   "source": [
    "features = np.array([[-0.43942006,  3.12628155, -1.12165014, -0.27288841, -1.42262747,\n",
    "       -0.24282231, -1.31238772,  2.63574867, -0.84767915, -0.38835331,\n",
    "       -0.66715293, -0.14697179,  0.05234989]])"
   ]
  },
  {
   "cell_type": "code",
   "execution_count": 8,
   "id": "4defeab7-83e2-4e06-8349-d05b8edf5d02",
   "metadata": {},
   "outputs": [
    {
     "data": {
      "text/plain": [
       "array([393.0255])"
      ]
     },
     "execution_count": 8,
     "metadata": {},
     "output_type": "execute_result"
    }
   ],
   "source": [
    "model.predict(features)"
   ]
  },
  {
   "cell_type": "code",
   "execution_count": null,
   "id": "ca14d2db-a8f0-4beb-aa1b-30b0f2a0d2ae",
   "metadata": {},
   "outputs": [],
   "source": []
  }
 ],
 "metadata": {
  "kernelspec": {
   "display_name": "Python 3 (ipykernel)",
   "language": "python",
   "name": "python3"
  },
  "language_info": {
   "codemirror_mode": {
    "name": "ipython",
    "version": 3
   },
   "file_extension": ".py",
   "mimetype": "text/x-python",
   "name": "python",
   "nbconvert_exporter": "python",
   "pygments_lexer": "ipython3",
   "version": "3.8.10"
  }
 },
 "nbformat": 4,
 "nbformat_minor": 5
}
